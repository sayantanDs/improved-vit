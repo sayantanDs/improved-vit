{
  "cells": [
    {
      "cell_type": "markdown",
      "metadata": {
        "id": "XEuYioOROjO_"
      },
      "source": [
        "# **Imports**"
      ]
    },
    {
      "cell_type": "code",
      "execution_count": 1,
      "metadata": {
        "colab": {
          "base_uri": "https://localhost:8080/"
        },
        "id": "NzhWZiWUOwLf",
        "outputId": "ff5d7c4a-b022-4bd7-d481-32ad51a1f3ee"
      },
      "outputs": [
        {
          "name": "stderr",
          "output_type": "stream",
          "text": [
            "\n",
            "[notice] A new release of pip available: 22.3 -> 23.0.1\n",
            "[notice] To update, run: python.exe -m pip install --upgrade pip\n"
          ]
        }
      ],
      "source": [
        "!pip install -q tensorflow-io"
      ]
    },
    {
      "cell_type": "code",
      "execution_count": 2,
      "metadata": {
        "id": "yJFKVzc0OhdH"
      },
      "outputs": [],
      "source": [
        "import os\n",
        "import shutil\n",
        "\n",
        "import matplotlib.pyplot as plt\n",
        "import numpy as np\n",
        "\n",
        "import tensorflow as tf\n",
        "import tensorflow_io as tfio\n",
        "\n",
        "import librosa\n",
        "from PIL import Image"
      ]
    },
    {
      "cell_type": "code",
      "execution_count": 3,
      "metadata": {
        "colab": {
          "base_uri": "https://localhost:8080/"
        },
        "id": "XCVcPxlHO1k2",
        "outputId": "60a941af-b768-4b5d-bcfc-19593ba4196e"
      },
      "outputs": [
        {
          "name": "stdout",
          "output_type": "stream",
          "text": [
            "Tensorflow version  2.10.0\n"
          ]
        }
      ],
      "source": [
        "print(\"Tensorflow version \", tf. __version__)"
      ]
    },
    {
      "cell_type": "markdown",
      "metadata": {
        "id": "HkrqQxgW6Vpn"
      },
      "source": [
        "# **Dataset**"
      ]
    },
    {
      "cell_type": "code",
      "execution_count": 4,
      "metadata": {},
      "outputs": [],
      "source": [
        "# output directory where the spectrograms will be stored\n",
        "spectrogram_dir = os.path.join(\"../src/\", \"speech_commands_v2_spectrograms\")"
      ]
    },
    {
      "cell_type": "markdown",
      "metadata": {
        "id": "qUnGcYoEo0Pb"
      },
      "source": [
        "## **Dataset Donwload**"
      ]
    },
    {
      "cell_type": "code",
      "execution_count": null,
      "metadata": {
        "colab": {
          "base_uri": "https://localhost:8080/"
        },
        "id": "s8DE1WP-6VSQ",
        "outputId": "be7960a2-85ef-40e9-c120-a358f677db22"
      },
      "outputs": [],
      "source": [
        "dataset_version = 2\n",
        "base_dir = os.path.join(\"data\", f\"speech_commands_v{dataset_version}\")\n",
        "data_dir = os.path.join(base_dir, \"train\")\n",
        "\n",
        "if not os.path.isdir(data_dir):\n",
        "  tf.keras.utils.get_file(\n",
        "      'speech_commands.tar.gz',\n",
        "      origin=f\"http://download.tensorflow.org/data/speech_commands_v0.0{dataset_version}.tar.gz\",\n",
        "      extract=True,\n",
        "      cache_dir='.', cache_subdir=data_dir\n",
        "  )"
      ]
    },
    {
      "cell_type": "code",
      "execution_count": null,
      "metadata": {
        "id": "vE3Fqj2k6ZZY"
      },
      "outputs": [],
      "source": [
        "shutil.rmtree(os.path.join(data_dir,\"_background_noise_\"), ignore_errors=True)"
      ]
    },
    {
      "cell_type": "code",
      "execution_count": null,
      "metadata": {
        "id": "kC0ObHWA6asw"
      },
      "outputs": [],
      "source": [
        "# CREATE VALIDATION FOLDER\n",
        "val_dir = os.path.join(base_dir, \"val\")\n",
        "if not os.path.isdir(val_dir):\n",
        "    validationlist_file = open(os.path.join(data_dir, \"validation_list.txt\"), \"r\")\n",
        "    validationlist = validationlist_file.readlines()\n",
        "\n",
        "    os.makedirs(val_dir, exist_ok=True)\n",
        "\n",
        "    for fname in validationlist:\n",
        "        fname = fname.strip()\n",
        "        category, filename = fname.split(\"/\")\n",
        "\n",
        "        os.makedirs(os.path.join(val_dir, category), exist_ok=True)\n",
        "        shutil.move(os.path.join(data_dir, fname), os.path.join(val_dir, fname))"
      ]
    },
    {
      "cell_type": "code",
      "execution_count": null,
      "metadata": {
        "id": "MbWJZ6aT6cJ4"
      },
      "outputs": [],
      "source": [
        "# CREATE TEST FOLDER\n",
        "test_dir = os.path.join(base_dir, \"test\")\n",
        "if not os.path.isdir(test_dir):\n",
        "    testlist_file = open(os.path.join(data_dir, \"testing_list.txt\"), \"r\")\n",
        "    testlist = testlist_file.readlines()\n",
        "\n",
        "    os.makedirs(test_dir, exist_ok=True)\n",
        "\n",
        "    for fname in testlist:\n",
        "        fname = fname.strip()\n",
        "        category, filename = fname.split(\"/\")\n",
        "\n",
        "        os.makedirs(os.path.join(test_dir, category), exist_ok=True)\n",
        "        shutil.move(os.path.join(data_dir, fname), os.path.join(test_dir, fname))"
      ]
    },
    {
      "cell_type": "markdown",
      "metadata": {
        "id": "Jw7O2vZujYle"
      },
      "source": [
        "# **Generate Spectrogram Images**"
      ]
    },
    {
      "cell_type": "markdown",
      "metadata": {
        "id": "jPVom7a2J8gI"
      },
      "source": [
        "## **Variables and Functions**"
      ]
    },
    {
      "cell_type": "code",
      "execution_count": null,
      "metadata": {
        "id": "894a4J9TjU4m"
      },
      "outputs": [],
      "source": [
        "SAMPLE_RATE = 16000\n",
        "\n",
        "# spectrogram setting\n",
        "SPEC_FRAME_SIZE = int(SAMPLE_RATE*0.025)\n",
        "SPEC_HOP_SIZE =  int(SAMPLE_RATE*0.010)\n",
        "SPEC_WINDOW = \"hamming\"\n",
        "# SPEC_WINDOW = \"hann\"\n",
        "SPEC_FMIN = 0\n",
        "MELS = 128"
      ]
    },
    {
      "cell_type": "code",
      "execution_count": null,
      "metadata": {
        "id": "Iu86FrC5jUzP"
      },
      "outputs": [],
      "source": [
        "def plot_spectrogram(spectrogram, transpose=False, cmap=None):\n",
        "    if transpose:\n",
        "        spectrogram = spectrogram.T\n",
        "    height = spectrogram.shape[0]\n",
        "    width = spectrogram.shape[1]\n",
        "    X = np.linspace(0, np.size(spectrogram), num=width, dtype=int)\n",
        "    # X = list(range(spectrogram.shape[1]))\n",
        "    Y = range(height)\n",
        "    plt.pcolormesh(X, Y, spectrogram, cmap=cmap) \n",
        "    plt.show()"
      ]
    },
    {
      "cell_type": "code",
      "execution_count": null,
      "metadata": {
        "id": "v_Ed9J_rjU2e"
      },
      "outputs": [],
      "source": [
        "def mel_spectrogram(y, sr, n_mels, n_fft, hop_length, fmin=0.0, window=\"hamming\"):\n",
        "    mel_spec = librosa.feature.melspectrogram(y=y, sr=sr, n_mels = n_mels, n_fft=n_fft, hop_length=hop_length, fmin=fmin, window=window)\n",
        "    log_mel_spec = np.log(mel_spec + 1e-07)\n",
        "    return log_mel_spec"
      ]
    },
    {
      "cell_type": "code",
      "execution_count": null,
      "metadata": {
        "id": "Kqw9aM50j__a"
      },
      "outputs": [],
      "source": [
        "def pad_to_1_sec(audio, sr):\n",
        "    samples = len(audio)\n",
        "    len_to_pad = sr - samples\n",
        "    if len_to_pad > 0:\n",
        "        audio = np.pad(audio, (0, len_to_pad), 'constant')\n",
        "\n",
        "    return audio"
      ]
    },
    {
      "cell_type": "code",
      "execution_count": null,
      "metadata": {
        "id": "EvzBFH7HjUwn"
      },
      "outputs": [],
      "source": [
        "def scale_minmax(X, min=0.0, max=1.0):\n",
        "    X_std = (X - X.min()) / (X.max() - X.min())\n",
        "    X_scaled = X_std * (max - min) + min\n",
        "    return X_scaled"
      ]
    },
    {
      "cell_type": "code",
      "execution_count": null,
      "metadata": {
        "id": "FTU-QkgbjUs2"
      },
      "outputs": [],
      "source": [
        "def spectrogram_image(spectrogram):\n",
        "    # min-max scale to fit inside 8-bit range\n",
        "    img = scale_minmax(spectrogram, 0, 255).astype(np.uint8)\n",
        "    img = np.flip(img, axis=0) # put low frequencies at the bottom in image\n",
        "    img = 255-img # invert. make black==more energy\n",
        "    return img"
      ]
    },
    {
      "cell_type": "code",
      "execution_count": null,
      "metadata": {
        "id": "zGs2aJ7EjxJ5"
      },
      "outputs": [],
      "source": [
        "def save_img(spec, filename):\n",
        "    img = Image.fromarray(spec, 'L')    # L = grayscale mode\n",
        "    img.save(filename)"
      ]
    },
    {
      "cell_type": "markdown",
      "metadata": {
        "id": "hJG4IiG4KA-J"
      },
      "source": [
        "## **Sample**"
      ]
    },
    {
      "cell_type": "code",
      "execution_count": null,
      "metadata": {
        "colab": {
          "base_uri": "https://localhost:8080/",
          "height": 320
        },
        "id": "fNZnepdtye3-",
        "outputId": "26e3245b-2059-49e0-a105-1703b9791c74"
      },
      "outputs": [
        {
          "name": "stdout",
          "output_type": "stream",
          "text": [
            "mel shape: (128, 101)\n",
            "spec img shape: (128, 101)\n"
          ]
        },
        {
          "data": {
            "text/plain": [
              "<matplotlib.image.AxesImage at 0x7fc78440a340>"
            ]
          },
          "execution_count": 19,
          "metadata": {},
          "output_type": "execute_result"
        },
        {
          "data": {
            "image/png": "[encoded data removed]",
            "text/plain": [
              "<Figure size 432x288 with 1 Axes>"
            ]
          },
          "metadata": {
            "needs_background": "light"
          },
          "output_type": "display_data"
        }
      ],
      "source": [
        "file_path= os.path.join(data_dir, \"backward/0165e0e8_nohash_0.wav\")\n",
        "\n",
        "audio, sr = librosa.load(file_path, sr=SAMPLE_RATE)\n",
        "audio = pad_to_1_sec(audio, sr)\n",
        "mel_spec = mel_spectrogram(y=audio, sr=sr, n_mels=MELS, n_fft=SPEC_FRAME_SIZE, hop_length=SPEC_HOP_SIZE, fmin=SPEC_FMIN, window=SPEC_WINDOW)\n",
        "print(\"mel shape:\", mel_spec.shape)\n",
        "\n",
        "img = spectrogram_image(mel_spec)\n",
        "print(\"spec img shape:\", img.shape)\n",
        "\n",
        "\n",
        "img = Image.fromarray(img, 'L')\n",
        "\n",
        "plt.imshow(img)"
      ]
    },
    {
      "cell_type": "markdown",
      "metadata": {
        "id": "I_yldhCIKDqx"
      },
      "source": [
        "## **Generate Spectrograms**"
      ]
    },
    {
      "cell_type": "code",
      "execution_count": null,
      "metadata": {
        "id": "QGQL49c5KKsK"
      },
      "outputs": [],
      "source": [
        "from multiprocessing import Pool"
      ]
    },
    {
      "cell_type": "code",
      "execution_count": null,
      "metadata": {
        "id": "GBxdd1gYIumB"
      },
      "outputs": [],
      "source": [
        "def convert_to_spectrogram(file_path):\n",
        "    parts = file_path.split(\"/\")\n",
        "    label = parts[-2]\n",
        "    train_test_val_folder = parts[-3]\n",
        "    basename = os.path.splitext(parts[-1])[0]\n",
        "\n",
        "    audio, sr = librosa.load(file_path, sr=SAMPLE_RATE)\n",
        "\n",
        "    audio = pad_to_1_sec(audio, sr)\n",
        "    mel_spec = mel_spectrogram(y=audio, sr=sr, n_mels=MELS, n_fft=SPEC_FRAME_SIZE, hop_length=SPEC_HOP_SIZE, fmin=SPEC_FMIN, window=SPEC_WINDOW)\n",
        "    img = spectrogram_image(mel_spec)\n",
        "    img = Image.fromarray(img, 'L')    # L = grayscale mode\n",
        "    img.save(os.path.join(spectrogram_dir, train_test_val_folder, label, basename+\".png\"))\n"
      ]
    },
    {
      "cell_type": "code",
      "execution_count": null,
      "metadata": {
        "colab": {
          "base_uri": "https://localhost:8080/"
        },
        "id": "ery5D0Z7KXQj",
        "outputId": "f88ef449-8513-496a-aed2-d195df1f734e"
      },
      "outputs": [
        {
          "data": {
            "text/plain": [
              "2"
            ]
          },
          "execution_count": 23,
          "metadata": {},
          "output_type": "execute_result"
        }
      ],
      "source": [
        "os.cpu_count()"
      ]
    },
    {
      "cell_type": "code",
      "execution_count": null,
      "metadata": {
        "colab": {
          "base_uri": "https://localhost:8080/"
        },
        "id": "jWknAUFbJRDO",
        "outputId": "1c3a0b0f-7d0c-4f0b-b4c0-4f868e23efa8"
      },
      "outputs": [
        {
          "name": "stdout",
          "output_type": "stream",
          "text": [
            "---------- train ----------\n",
            "backward ...\n",
            "bed ...\n",
            "bird ...\n",
            "cat ...\n",
            "dog ...\n",
            "down ...\n",
            "eight ...\n",
            "five ...\n",
            "follow ...\n",
            "forward ...\n",
            "four ...\n",
            "go ...\n",
            "happy ...\n",
            "house ...\n",
            "learn ...\n",
            "left ...\n",
            "marvin ...\n",
            "nine ...\n",
            "no ...\n",
            "off ...\n",
            "on ...\n",
            "one ...\n",
            "right ...\n",
            "seven ...\n",
            "sheila ...\n",
            "six ...\n",
            "stop ...\n",
            "three ...\n",
            "tree ...\n",
            "two ...\n",
            "up ...\n",
            "visual ...\n",
            "wow ...\n",
            "yes ...\n",
            "zero ...\n",
            "---------- val ----------\n",
            "backward ...\n",
            "bed ...\n",
            "bird ...\n",
            "cat ...\n",
            "dog ...\n",
            "down ...\n",
            "eight ...\n",
            "five ...\n",
            "follow ...\n",
            "forward ...\n",
            "four ...\n",
            "go ...\n",
            "happy ...\n",
            "house ...\n",
            "learn ...\n",
            "left ...\n",
            "marvin ...\n",
            "nine ...\n",
            "no ...\n",
            "off ...\n",
            "on ...\n",
            "one ...\n",
            "right ...\n",
            "seven ...\n",
            "sheila ...\n",
            "six ...\n",
            "stop ...\n",
            "three ...\n",
            "tree ...\n",
            "two ...\n",
            "up ...\n",
            "visual ...\n",
            "wow ...\n",
            "yes ...\n",
            "zero ...\n",
            "---------- test ----------\n",
            "backward ...\n",
            "bed ...\n",
            "bird ...\n",
            "cat ...\n",
            "dog ...\n",
            "down ...\n",
            "eight ...\n",
            "five ...\n",
            "follow ...\n",
            "forward ...\n",
            "four ...\n",
            "go ...\n",
            "happy ...\n",
            "house ...\n",
            "learn ...\n",
            "left ...\n",
            "marvin ...\n",
            "nine ...\n",
            "no ...\n",
            "off ...\n",
            "on ...\n",
            "one ...\n",
            "right ...\n",
            "seven ...\n",
            "sheila ...\n",
            "six ...\n",
            "stop ...\n",
            "three ...\n",
            "tree ...\n",
            "two ...\n",
            "up ...\n",
            "visual ...\n",
            "wow ...\n",
            "yes ...\n",
            "zero ...\n"
          ]
        }
      ],
      "source": [
        "for subfolder in os.listdir(base_dir):\n",
        "    print(\"-\"*10, subfolder, \"-\"*10)\n",
        "    subfolder_path = os.path.join(base_dir, subfolder)\n",
        "\n",
        "    labels = sorted([f for f in os.listdir(subfolder_path) if os.path.isdir(os.path.join(subfolder_path, f))])\n",
        "    for label in labels:\n",
        "        print(label,\"...\")\n",
        "        \n",
        "        label_folder = os.path.join(subfolder_path, label)\n",
        "        dst_folder = os.path.join(spectrogram_dir, subfolder, label)\n",
        "        os.makedirs(dst_folder, exist_ok=True)\n",
        "\n",
        "        file_list = os.listdir(label_folder)\n",
        "        file_list = [os.path.join(label_folder, afile) for afile in file_list]\n",
        "\n",
        "        with Pool(8) as p:\n",
        "            p.map(convert_to_spectrogram, file_list)"
      ]
    },
    {
      "cell_type": "code",
      "execution_count": null,
      "metadata": {
        "colab": {
          "base_uri": "https://localhost:8080/"
        },
        "id": "dKy4vn0ARNdJ",
        "outputId": "1a3a51d6-12b2-4e9b-9fb7-8cec600b812b"
      },
      "outputs": [
        {
          "name": "stdout",
          "output_type": "stream",
          "text": [
            "marvin    :\t train: 1710 (81.43%)  val: 195 (9.29%)  test: 195 (9.29%)\n",
            "sheila    :\t train: 1606 (79.43%)  val: 204 (10.09%)  test: 212 (10.48%)\n",
            "off       :\t train: 2970 (79.31%)  val: 373 (9.96%)  test: 402 (10.73%)\n",
            "house     :\t train: 1727 (81.73%)  val: 195 (9.23%)  test: 191 (9.04%)\n",
            "six       :\t train: 3088 (80.00%)  val: 378 (9.79%)  test: 394 (10.21%)\n",
            "learn     :\t train: 1286 (81.65%)  val: 128 (8.13%)  test: 161 (10.22%)\n",
            "eight     :\t train: 3033 (80.09%)  val: 346 (9.14%)  test: 408 (10.77%)\n",
            "stop      :\t train: 3111 (80.35%)  val: 350 (9.04%)  test: 411 (10.61%)\n",
            "seven     :\t train: 3205 (80.17%)  val: 387 (9.68%)  test: 406 (10.16%)\n",
            "bird      :\t train: 1697 (82.22%)  val: 182 (8.82%)  test: 185 (8.96%)\n",
            "wow       :\t train: 1724 (81.21%)  val: 193 (9.09%)  test: 206 (9.70%)\n",
            "two       :\t train: 3111 (80.18%)  val: 345 (8.89%)  test: 424 (10.93%)\n",
            "on        :\t train: 3086 (80.26%)  val: 363 (9.44%)  test: 396 (10.30%)\n",
            "zero      :\t train: 3250 (80.21%)  val: 384 (9.48%)  test: 418 (10.32%)\n",
            "tree      :\t train: 1407 (79.99%)  val: 159 (9.04%)  test: 193 (10.97%)\n",
            "forward   :\t train: 1256 (80.67%)  val: 146 (9.38%)  test: 155 (9.96%)\n",
            "happy     :\t train: 1632 (79.45%)  val: 219 (10.66%)  test: 203 (9.88%)\n",
            "five      :\t train: 3240 (79.96%)  val: 367 (9.06%)  test: 445 (10.98%)\n",
            "right     :\t train: 3019 (79.91%)  val: 363 (9.61%)  test: 396 (10.48%)\n",
            "nine      :\t train: 3170 (80.58%)  val: 356 (9.05%)  test: 408 (10.37%)\n",
            "down      :\t train: 3134 (80.01%)  val: 377 (9.62%)  test: 406 (10.37%)\n",
            "cat       :\t train: 1657 (81.59%)  val: 180 (8.86%)  test: 194 (9.55%)\n",
            "left      :\t train: 3037 (79.90%)  val: 352 (9.26%)  test: 412 (10.84%)\n",
            "four      :\t train: 2955 (79.27%)  val: 373 (10.01%)  test: 400 (10.73%)\n",
            "dog       :\t train: 1711 (80.40%)  val: 197 (9.26%)  test: 220 (10.34%)\n",
            "backward  :\t train: 1346 (80.89%)  val: 153 (9.19%)  test: 165 (9.92%)\n",
            "three     :\t train: 2966 (79.58%)  val: 356 (9.55%)  test: 405 (10.87%)\n",
            "bed       :\t train: 1594 (79.15%)  val: 213 (10.58%)  test: 207 (10.28%)\n",
            "follow    :\t train: 1275 (80.75%)  val: 132 (8.36%)  test: 172 (10.89%)\n",
            "up        :\t train: 2948 (79.18%)  val: 350 (9.40%)  test: 425 (11.42%)\n",
            "go        :\t train: 3106 (80.05%)  val: 372 (9.59%)  test: 402 (10.36%)\n",
            "no        :\t train: 3130 (79.42%)  val: 406 (10.30%)  test: 405 (10.28%)\n",
            "visual    :\t train: 1288 (80.90%)  val: 139 (8.73%)  test: 165 (10.36%)\n",
            "one       :\t train: 3140 (80.72%)  val: 351 (9.02%)  test: 399 (10.26%)\n",
            "yes       :\t train: 3228 (79.82%)  val: 397 (9.82%)  test: 419 (10.36%)\n",
            "-------------------------------------------------------\n",
            "Total     \t train: 84843 (80.17%)  val: 9981 (9.43%)  test: 11005 (10.40%)\n"
          ]
        }
      ],
      "source": [
        "tot_train = 0\n",
        "tot_val = 0\n",
        "tot_test = 0\n",
        "for folder in os.listdir(os.path.join(spectrogram_dir, \"train\")):\n",
        "    if os.path.isdir(os.path.join(os.path.join(spectrogram_dir, \"train\", folder))):\n",
        "        train_len = len(os.listdir(os.path.join(spectrogram_dir, \"train\", folder)))\n",
        "        val_len = len(os.listdir(os.path.join(spectrogram_dir, \"val\", folder)))\n",
        "        test_len = len(os.listdir(os.path.join(spectrogram_dir, \"test\", folder)))\n",
        "        \n",
        "        tot_len = train_len+val_len+test_len\n",
        "        train_percent = float(train_len*100)/tot_len\n",
        "        val_percent = float(val_len*100)/tot_len\n",
        "        test_percent = float(test_len*100)/tot_len\n",
        "\n",
        "        tot_train += train_len\n",
        "        tot_val += val_len \n",
        "        tot_test += test_len \n",
        "\n",
        "        print(f\"{folder:10}:\\t train: {train_len} ({train_percent:02.2f}%)  val: {val_len} ({val_percent:02.2f}%)  test: {test_len} ({test_percent:02.2f}%)\")\n",
        "\n",
        "tot_len = tot_train + tot_val + tot_test\n",
        "train_percent = float(tot_train*100)/tot_len\n",
        "val_percent = float(tot_val*100)/tot_len\n",
        "test_percent = float(tot_test*100)/tot_len\n",
        "print(\"-\"*55)\n",
        "print(f\"Total     \\t train: {tot_train} ({train_percent:02.2f}%)  val: {tot_val} ({val_percent:02.2f}%)  test: {tot_test} ({test_percent:02.2f}%)\")"
      ]
    }
  ],
  "metadata": {
    "colab": {
      "provenance": []
    },
    "gpuClass": "standard",
    "kernelspec": {
      "display_name": "Python 3",
      "name": "python3"
    },
    "language_info": {
      "codemirror_mode": {
        "name": "ipython",
        "version": 3
      },
      "file_extension": ".py",
      "mimetype": "text/x-python",
      "name": "python",
      "nbconvert_exporter": "python",
      "pygments_lexer": "ipython3",
      "version": "3.10.8"
    }
  },
  "nbformat": 4,
  "nbformat_minor": 0
}
